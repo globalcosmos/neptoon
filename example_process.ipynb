{
 "cells": [
  {
   "cell_type": "code",
   "execution_count": null,
   "metadata": {},
   "outputs": [],
   "source": [
    "from pathlib import Path\n",
    "import math\n",
    "import pandas as pd\n",
    "from neptoon.quality_assesment.quality_assesment import (\n",
    "    QualityAssessmentFlagBuilder,\n",
    "    FlagRangeCheck,\n",
    "    FlagSpikeDetectionUniLOF,\n",
    ")\n",
    "\n",
    "from neptoon.data_management.crns_data_hub import CRNSDataHub\n",
    "\n",
    "from neptoon.data_management.column_information import ColumnInfo\n",
    "from neptoon.data_management.site_information import SiteInformation\n",
    "\n",
    "from neptoon.neutron_correction.neutron_correction import (\n",
    "    CorrectionType,\n",
    "    CorrectionTheory,\n",
    ")\n",
    "from neptoon.neutron_correction.correction_classes import Correction\n",
    "\n",
    "from neptoon.data_management.data_audit import (\n",
    "    DataAuditLog,\n",
    ")\n",
    "from neptoon.data_ingest_and_formatting.data_ingest import (\n",
    "    CollectAndParseRawData, \n",
    "    ParseFilesIntoDataFrame,\n",
    "    FormatDataForCRNSDataHub,\n",
    ")"
   ]
  },
  {
   "cell_type": "code",
   "execution_count": null,
   "metadata": {},
   "outputs": [],
   "source": [
    "DataAuditLog.create()"
   ]
  },
  {
   "cell_type": "code",
   "execution_count": null,
   "metadata": {},
   "outputs": [],
   "source": [
    "# zip_file = (\n",
    "#     Path().parent / \"tests\" / \"data_ingest_and_formatting\" / \n",
    "#     \"mock_data\" / \"CRNS-station_data-Hydroinnova-A.zip\"\n",
    "# )\n",
    "\n",
    "# file_manager = ManageFileCollection(data_location=zip_file)\n",
    "# file_manager.get_list_of_files() \n",
    "# file_manager.filter_files() "
   ]
  },
  {
   "cell_type": "code",
   "execution_count": null,
   "metadata": {},
   "outputs": [],
   "source": [
    "# file_parser = ParseFilesIntoDataFrame(file_manager)\n",
    "# data = file_parser.make_dataframe()"
   ]
  },
  {
   "cell_type": "code",
   "execution_count": null,
   "metadata": {},
   "outputs": [],
   "source": [
    "# data_formatter = FormatDataForCRNSDataHub(data_frame=data)\n",
    "# data"
   ]
  },
  {
   "cell_type": "code",
   "execution_count": null,
   "metadata": {},
   "outputs": [],
   "source": [
    "data_creator = CollectAndParseRawData(\n",
    "    path_to_yaml=\"/Users/power/Documents/code/neptoon/configuration_files/input_data_format.yaml\"\n",
    ")\n",
    "crns_df = data_creator.create_data_frame()"
   ]
  },
  {
   "cell_type": "code",
   "execution_count": null,
   "metadata": {},
   "outputs": [],
   "source": [
    "# def import_crns_dataframe_and_format(filename):\n",
    "#     \"\"\"\n",
    "#     This is a pseudo function that will eventually be replaced by the\n",
    "#     ingest routines. For now it converts a sample dataset into a format\n",
    "#     (which we can update later).\n",
    "#     \"\"\"\n",
    "#     cwd = Path.cwd()\n",
    "#     crns_df_path = cwd / \"tests\" / \"sample_crns_data\" / filename\n",
    "#     crns_df = pd.read_csv(crns_df_path)\n",
    "#     crns_df[\"date_time_utc\"] = pd.to_datetime(\n",
    "#         crns_df[\"date_time_utc\"], dayfirst=True\n",
    "#     )\n",
    "#     crns_df.set_index(crns_df[\"date_time_utc\"], inplace=True)\n",
    "#     crns_df.drop([\"date_time_utc\"], axis=1, inplace=True)\n",
    "#     crns_df = crns_df.replace(\"noData\", math.nan)\n",
    "#     crns_df[\"epithermal_neutrons\"] = pd.to_numeric(\n",
    "#         crns_df[\"epithermal_neutrons\"]\n",
    "#     )\n",
    "#     crns_df[\"thermal_neutrons\"] = pd.to_numeric(crns_df[\"thermal_neutrons\"])\n",
    "#     crns_df[\"air_temperature\"] = pd.to_numeric(crns_df[\"air_temperature\"])\n",
    "#     crns_df[\"air_relative_humidity\"] = pd.to_numeric(\n",
    "#         crns_df[\"air_relative_humidity\"]\n",
    "#     )\n",
    "#     crns_df[\"precipitation\"] = pd.to_numeric(crns_df[\"precipitation\"])\n",
    "#     crns_df[\"air_pressure\"] = pd.to_numeric(crns_df[\"air_pressure\"])\n",
    "\n",
    "#     return crns_df\n",
    "\n",
    "\n",
    "# crns_df = import_crns_dataframe_and_format(\"CUC001.csv\")\n",
    "# crns_df"
   ]
  },
  {
   "cell_type": "code",
   "execution_count": null,
   "metadata": {},
   "outputs": [],
   "source": [
    "site_information = SiteInformation(\n",
    "    latitude=51.37,\n",
    "    longitude=12.55,\n",
    "    elevation=140,\n",
    "    reference_incoming_neutron_value=150,\n",
    "    bulk_density=1.4,\n",
    "    lattice_water=0.01,\n",
    "    soil_organic_carbon=0,\n",
    "    # mean_pressure=900,\n",
    "    cutoff_rigidity=2.94,\n",
    "    site_biomass = 1\n",
    ")\n",
    "\n",
    "site_information.add_custom_value(\"n0\", 1000)\n",
    "site_information.add_custom_value(\"biomass\", 1)\n"
   ]
  },
  {
   "cell_type": "code",
   "execution_count": null,
   "metadata": {},
   "outputs": [],
   "source": [
    "data_hub = CRNSDataHub(\n",
    "    crns_data_frame=crns_df, site_information=site_information\n",
    ")\n",
    "data_hub.validate_dataframe(schema=\"initial_check\")"
   ]
  },
  {
   "cell_type": "markdown",
   "metadata": {},
   "source": [
    "The `attach_nmdb_data()` method has defaults. Running the below code, without selecting values, will work too. \n",
    "\n",
    "\n",
    "```python\n",
    "data_hub.attach_nmdb_data()\n",
    "```\n",
    "\n"
   ]
  },
  {
   "cell_type": "code",
   "execution_count": null,
   "metadata": {},
   "outputs": [],
   "source": [
    "data_hub.attach_nmdb_data(\n",
    "    station = \"JUNG\",\n",
    "    new_column_name = \"incoming_neutron_intensity\",\n",
    "    resolution = \"60\",\n",
    "    nmdb_table = \"revori\"\n",
    "    )\n",
    "data_hub.crns_data_frame"
   ]
  },
  {
   "cell_type": "code",
   "execution_count": null,
   "metadata": {},
   "outputs": [],
   "source": [
    "data_hub.prepare_static_values()\n",
    "data_hub.crns_data_frame"
   ]
  },
  {
   "cell_type": "code",
   "execution_count": null,
   "metadata": {},
   "outputs": [],
   "source": [
    "qa_flags = QualityAssessmentFlagBuilder()\n",
    "qa_flags.add_check(\n",
    "    FlagRangeCheck(\"air_relative_humidity\", min_val=0, max_val=100),\n",
    "    # FlagRangeCheck(\"precipitation\", min_val=0, max_val=20),\n",
    "    FlagSpikeDetectionUniLOF(\"epithermal_neutrons\"),\n",
    "    # ...\n",
    ")\n",
    "\n",
    "data_hub.apply_quality_flags(custom_flags=qa_flags)\n",
    "data_hub.flags_data_frame\n"
   ]
  },
  {
   "cell_type": "code",
   "execution_count": null,
   "metadata": {},
   "outputs": [],
   "source": [
    "data_hub.select_correction(\n",
    "    correction_type=CorrectionType.INCOMING_INTENSITY,\n",
    "    correction_theory=CorrectionTheory.ZREDA_2012,\n",
    ")\n",
    "data_hub.select_correction(\n",
    "    correction_type=CorrectionType.HUMIDITY,\n",
    "    correction_theory=CorrectionTheory.ROSOLEM_2013\n",
    ")\n",
    "\n",
    "data_hub.select_correction(\n",
    "    correction_type=CorrectionType.PRESSURE,\n",
    ")\n",
    "\n",
    "# data_hub.select_correction(\n",
    "#     correction_type=CorrectionType.ABOVE_GROUND_BIOMASS\n",
    "# )\n",
    "\n",
    "data_hub.correct_neutrons()\n",
    "data_hub.crns_data_frame"
   ]
  },
  {
   "cell_type": "code",
   "execution_count": null,
   "metadata": {},
   "outputs": [],
   "source": [
    "class NewIdeaForBiomass(Correction):\n",
    "    \"\"\"\n",
    "    My new idea to correct for biomass with humidity\n",
    "    \"\"\"\n",
    "\n",
    "    def __init__(self, \n",
    "                site_information,\n",
    "                correction_type = CorrectionType.CUSTOM,\n",
    "                 \n",
    "                correction_factor_column_name: str = \"new_biomass_correction\",\n",
    "                ):\n",
    "        super().__init__(correction_type=correction_type, \n",
    "                         correction_factor_column_name=correction_factor_column_name)\n",
    "        self.site_information = site_information\n",
    "        self.humidity_column_name = \"air_relative_humidity\"\n",
    "\n",
    "    @staticmethod\n",
    "    def new_func(biomass, humidity):\n",
    "        return 1-((biomass / humidity) / 1000)\n",
    "\n",
    "    def apply(self, data_frame: pd.DataFrame):\n",
    "\n",
    "        data_frame[self.correction_factor_column_name] = data_frame.apply(\n",
    "            lambda row: self.new_func(\n",
    "                row[self.humidity_column_name],\n",
    "                self.site_information.site_biomass, # Here we use a value from site_information\n",
    "            ),\n",
    "            axis=1,\n",
    "        )\n",
    "        return data_frame"
   ]
  },
  {
   "cell_type": "code",
   "execution_count": null,
   "metadata": {},
   "outputs": [],
   "source": [
    "data_hub.correction_factory.register_custom_correction(\n",
    "    correction_type=CorrectionType.CUSTOM,\n",
    "    theory=\"my_new_idea\",\n",
    "    correction_class=NewIdeaForBiomass,\n",
    ")\n",
    "\n",
    "data_hub.select_correction(\n",
    "    correction_type=CorrectionType.CUSTOM,\n",
    "    correction_theory=\"my_new_idea\",\n",
    ")\n",
    "\n",
    "data_hub.prepare_static_values()\n",
    "data_hub.correct_neutrons()\n",
    "data_hub.crns_data_frame"
   ]
  },
  {
   "cell_type": "code",
   "execution_count": null,
   "metadata": {},
   "outputs": [],
   "source": [
    "data_hub.produce_soil_moisture_estimates()\n",
    "data_hub.crns_data_frame"
   ]
  },
  {
   "cell_type": "code",
   "execution_count": null,
   "metadata": {},
   "outputs": [],
   "source": [
    "# data_hub.save_and_archive_data(Path/path) TODO"
   ]
  },
  {
   "cell_type": "code",
   "execution_count": null,
   "metadata": {},
   "outputs": [],
   "source": [
    "DataAuditLog.archive_and_delete_log(site_name=\"TestQA\")"
   ]
  },
  {
   "cell_type": "code",
   "execution_count": null,
   "metadata": {},
   "outputs": [],
   "source": []
  }
 ],
 "metadata": {
  "kernelspec": {
   "display_name": "neptoon_dev",
   "language": "python",
   "name": "python3"
  },
  "language_info": {
   "codemirror_mode": {
    "name": "ipython",
    "version": 3
   },
   "file_extension": ".py",
   "mimetype": "text/x-python",
   "name": "python",
   "nbconvert_exporter": "python",
   "pygments_lexer": "ipython3",
   "version": "3.10.14"
  }
 },
 "nbformat": 4,
 "nbformat_minor": 2
}
