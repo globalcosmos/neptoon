{
 "cells": [
  {
   "cell_type": "code",
   "execution_count": 1,
   "metadata": {},
   "outputs": [],
   "source": [
    "from pathlib import Path\n",
    "\n",
    "import pandas as pd\n",
    "from neptoon.quality_assesment.quality_assesment import (\n",
    "    QualityAssessmentFlagBuilder,\n",
    "    FlagRangeCheck,\n",
    "    FlagSpikeDetectionUniLOF,\n",
    ")\n",
    "\n",
    "from neptoon.data_management.crns_data_hub import CRNSDataHub\n",
    "\n",
    "from neptoon.data_management.column_information import ColumnInfo\n",
    "from neptoon.data_management.site_information import SiteInformation\n",
    "\n",
    "from neptoon.neutron_correction.neutron_correction import (\n",
    "    CorrectionType,\n",
    "    CorrectionTheory,\n",
    ")\n",
    "from neptoon.calibration.station_calibration import CalibrationConfiguration\n",
    "from neptoon.neutron_correction.correction_classes import Correction\n",
    "\n",
    "from neptoon.data_management.data_audit import (\n",
    "    DataAuditLog,\n",
    ")\n",
    "from neptoon.data_ingest_and_formatting.data_ingest import (\n",
    "    ConfigurationManager\n",
    ")\n",
    "from neptoon.data_management.process_with_yaml import ProcessWithYaml"
   ]
  },
  {
   "cell_type": "code",
   "execution_count": null,
   "metadata": {},
   "outputs": [],
   "source": [
    "DataAuditLog.create()"
   ]
  },
  {
   "cell_type": "code",
   "execution_count": 3,
   "metadata": {},
   "outputs": [],
   "source": [
    "config = ConfigurationManager()\n",
    "station_config_path = (\n",
    "    Path.cwd() / \"configuration_files\" / \"FSC001_station.yaml\"\n",
    ")\n",
    "processing_config_path = (\n",
    "    Path.cwd() / \"configuration_files\" / \"v1_processing_method.yaml\"\n",
    ")\n",
    "\n",
    "config.load_and_validate_configuration(\n",
    "    name=\"station\",\n",
    "    file_path=station_config_path,\n",
    ")\n",
    "config.load_and_validate_configuration(\n",
    "    name=\"processing\",\n",
    "    file_path=processing_config_path,\n",
    ")\n",
    "\n",
    "DataAuditLog.create()\n",
    "yaml_processor = ProcessWithYaml(configuration_object=config)\n",
    "\n",
    "## OPTION 1:\n",
    "data_hub = yaml_processor.create_data_hub()"
   ]
  },
  {
   "cell_type": "code",
   "execution_count": 4,
   "metadata": {},
   "outputs": [],
   "source": [
    "calib_df = pd.read_csv(\n",
    "    Path.cwd() / \"example_data\" / \"FSCD001_calibration.csv\"\n",
    ")\n",
    "data_hub.calibration_samples_data = calib_df"
   ]
  },
  {
   "cell_type": "markdown",
   "metadata": {},
   "source": [
    "The `attach_nmdb_data()` method has defaults. Running the below code, without selecting values, will work too. \n",
    "\n",
    "\n",
    "```python\n",
    "data_hub.attach_nmdb_data()\n",
    "```\n",
    "\n"
   ]
  },
  {
   "cell_type": "markdown",
   "metadata": {},
   "source": []
  },
  {
   "cell_type": "code",
   "execution_count": null,
   "metadata": {},
   "outputs": [],
   "source": [
    "data_hub.attach_nmdb_data(\n",
    "    station = \"JUNG\",\n",
    "    new_column_name = \"incoming_neutron_intensity\",\n",
    "    resolution = \"60\",\n",
    "    nmdb_table = \"revori\"\n",
    "    )\n",
    "data_hub.crns_data_frame"
   ]
  },
  {
   "cell_type": "code",
   "execution_count": null,
   "metadata": {},
   "outputs": [],
   "source": [
    "data_hub.prepare_static_values()\n",
    "data_hub.crns_data_frame"
   ]
  },
  {
   "cell_type": "code",
   "execution_count": null,
   "metadata": {},
   "outputs": [],
   "source": [
    "qa_flags = QualityAssessmentFlagBuilder()\n",
    "qa_flags.add_check(\n",
    "    FlagRangeCheck(\"air_relative_humidity\", min_val=0, max_val=100),\n",
    "    # FlagRangeCheck(\"precipitation\", min_val=0, max_val=20),\n",
    "    FlagSpikeDetectionUniLOF(\"epithermal_neutrons_cph\"),\n",
    "    # ...\n",
    ")\n",
    "\n",
    "data_hub.add_quality_flags(custom_flags=qa_flags)\n",
    "data_hub.apply_quality_flags()\n",
    "data_hub.flags_data_frame\n"
   ]
  },
  {
   "cell_type": "code",
   "execution_count": null,
   "metadata": {},
   "outputs": [],
   "source": [
    "data_hub.select_correction(\n",
    "    correction_type=CorrectionType.INCOMING_INTENSITY,\n",
    "    correction_theory=CorrectionTheory.ZREDA_2012,\n",
    ")\n",
    "data_hub.select_correction(\n",
    "    correction_type=CorrectionType.HUMIDITY,\n",
    "    correction_theory=CorrectionTheory.ROSOLEM_2013\n",
    ")\n",
    "\n",
    "data_hub.select_correction(\n",
    "    correction_type=CorrectionType.PRESSURE,\n",
    ")\n",
    "\n",
    "# data_hub.select_correction(\n",
    "#     correction_type=CorrectionType.ABOVE_GROUND_BIOMASS\n",
    "# )\n",
    "\n",
    "data_hub.correct_neutrons()\n",
    "data_hub.crns_data_frame"
   ]
  },
  {
   "cell_type": "code",
   "execution_count": 9,
   "metadata": {},
   "outputs": [],
   "source": [
    "x = data_hub.crns_data_frame"
   ]
  },
  {
   "cell_type": "code",
   "execution_count": null,
   "metadata": {},
   "outputs": [],
   "source": [
    "calibration_config = CalibrationConfiguration(\n",
    "    date_time_column_name='DateTime_utc',\n",
    "    profile_id_column='Profile_ID',\n",
    "    distance_column='Distance_to_CRNS_m',\n",
    "    sample_depth_column='Profile_Depth_cm',\n",
    "    soil_moisture_gravimetric_column='SoilMoisture_g_g',\n",
    "    bulk_density_of_sample_column='DryBulkDensity_g_cm3',\n",
    "    soil_organic_carbon_column='SoilOrganicCarbon_g_g',\n",
    "    lattice_water_column='LatticeWater_g_g',\n",
    ")\n",
    "data_hub.calibrate_station(config=calibration_config)\n",
    "data_hub.calibrator.return_calibration_results_data_frame()"
   ]
  },
  {
   "cell_type": "code",
   "execution_count": null,
   "metadata": {},
   "outputs": [],
   "source": [
    "data_hub.produce_soil_moisture_estimates()\n",
    "data_hub.crns_data_frame"
   ]
  },
  {
   "cell_type": "code",
   "execution_count": 12,
   "metadata": {},
   "outputs": [],
   "source": [
    "data_hub.save_data(append_yaml_hash_to_folder_name=True)"
   ]
  },
  {
   "cell_type": "code",
   "execution_count": 16,
   "metadata": {},
   "outputs": [],
   "source": [
    "DataAuditLog.archive_and_delete_log(site_name='test')"
   ]
  },
  {
   "cell_type": "code",
   "execution_count": null,
   "metadata": {},
   "outputs": [],
   "source": []
  }
 ],
 "metadata": {
  "kernelspec": {
   "display_name": "neptoon_dev",
   "language": "python",
   "name": "python3"
  },
  "language_info": {
   "codemirror_mode": {
    "name": "ipython",
    "version": 3
   },
   "file_extension": ".py",
   "mimetype": "text/x-python",
   "name": "python",
   "nbconvert_exporter": "python",
   "pygments_lexer": "ipython3",
   "version": "3.10.14"
  }
 },
 "nbformat": 4,
 "nbformat_minor": 2
}
