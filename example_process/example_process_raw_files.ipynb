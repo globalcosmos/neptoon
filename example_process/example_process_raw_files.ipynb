{
 "cells": [
  {
   "cell_type": "code",
   "execution_count": 1,
   "metadata": {},
   "outputs": [],
   "source": [
    "from pathlib import Path\n",
    "import pandas as pd\n",
    "from neptoon.quality_control import (\n",
    "    QualityAssessmentFlagBuilder,\n",
    "    QualityCheck,\n",
    "    QAMethod,\n",
    "    QATarget,\n",
    ")\n",
    "from neptoon.hub import CRNSDataHub\n",
    "from neptoon.config.configuration_input import SensorInfo\n",
    "from neptoon.corrections import (\n",
    "    CorrectionType,\n",
    "    CorrectionTheory,\n",
    "    Correction,\n",
    ")\n",
    "from neptoon.data_audit import (\n",
    "    DataAuditLog,\n",
    ")\n",
    "from neptoon.io.read import (\n",
    "    CollectAndParseRawData\n",
    ")"
   ]
  },
  {
   "cell_type": "code",
   "execution_count": null,
   "metadata": {},
   "outputs": [],
   "source": [
    "# DataAuditLog.create()"
   ]
  },
  {
   "cell_type": "code",
   "execution_count": 3,
   "metadata": {},
   "outputs": [],
   "source": [
    "abspath = \"\" \n",
    "data_creator = CollectAndParseRawData(\n",
    "    path_to_yaml= abspath + \"configuration_files/A101_station.yaml\"\n",
    ")\n",
    "crns_df = data_creator.create_data_frame()"
   ]
  },
  {
   "cell_type": "code",
   "execution_count": null,
   "metadata": {},
   "outputs": [],
   "source": [
    "site_information = SensorInfo(\n",
    "    name=\"x_some_site\",\n",
    "    country=\"DEU\",\n",
    "    latitude=51.37,\n",
    "    longitude=12.55,\n",
    "    elevation=140,\n",
    "    reference_incoming_neutron_value=150,\n",
    "    avg_dry_soil_bulk_density=1.4,\n",
    "    avg_lattice_water=0.01,\n",
    "    avg_soil_organic_carbon=0,\n",
    "    n0=700,\n",
    "    cutoff_rigidity=2.94,\n",
    "    site_biomass = 1\n",
    ")\n",
    "\n",
    "\n"
   ]
  },
  {
   "cell_type": "code",
   "execution_count": null,
   "metadata": {},
   "outputs": [],
   "source": [
    "data_hub = CRNSDataHub(\n",
    "    crns_data_frame=crns_df, site_information=site_information\n",
    ")\n",
    "data_hub.validate_dataframe(schema=\"initial_check\")"
   ]
  },
  {
   "cell_type": "markdown",
   "metadata": {},
   "source": [
    "The `attach_nmdb_data()` method has defaults. Running the below code, without selecting values, will work too. \n",
    "\n",
    "\n",
    "```python\n",
    "data_hub.attach_nmdb_data()\n",
    "```\n",
    "\n"
   ]
  },
  {
   "cell_type": "code",
   "execution_count": null,
   "metadata": {},
   "outputs": [],
   "source": [
    "data_hub.attach_nmdb_data(\n",
    "    station = \"JUNG\",\n",
    "    new_column_name = \"incoming_neutron_intensity\",\n",
    "    resolution = \"60\",\n",
    "    nmdb_table = \"revori\"\n",
    "    )\n",
    "data_hub.crns_data_frame"
   ]
  },
  {
   "cell_type": "code",
   "execution_count": null,
   "metadata": {},
   "outputs": [],
   "source": [
    "data_hub.prepare_static_values()\n",
    "data_hub.crns_data_frame"
   ]
  },
  {
   "cell_type": "code",
   "execution_count": null,
   "metadata": {},
   "outputs": [],
   "source": [
    "qa_flags = QualityAssessmentFlagBuilder()\n",
    "qa_flags.add_check(\n",
    "    \n",
    "    QualityCheck(\n",
    "        target=QATarget.RELATIVE_HUMIDITY,\n",
    "        method=QAMethod.RANGE_CHECK,\n",
    "        parameters={\n",
    "            \"min\":0,\n",
    "            \"max\":100\n",
    "                }),\n",
    "\n",
    "    QualityCheck(\n",
    "        target=QATarget.RAW_EPI_NEUTRONS,\n",
    "        method=QAMethod.SPIKE_UNILOF,\n",
    "    )\n",
    ")\n",
    "\n",
    "data_hub.add_quality_flags(custom_flags=qa_flags)\n",
    "data_hub.apply_quality_flags()\n",
    "data_hub.flags_data_frame\n"
   ]
  },
  {
   "cell_type": "code",
   "execution_count": null,
   "metadata": {},
   "outputs": [],
   "source": [
    "data_hub.select_correction(\n",
    "    correction_type=CorrectionType.INCOMING_INTENSITY,\n",
    "    correction_theory=CorrectionTheory.ZREDA_2012,\n",
    ")\n",
    "data_hub.select_correction(\n",
    "    correction_type=CorrectionType.HUMIDITY,\n",
    "    correction_theory=CorrectionTheory.ROSOLEM_2013\n",
    ")\n",
    "\n",
    "data_hub.select_correction(\n",
    "    correction_type=CorrectionType.PRESSURE,\n",
    ")\n",
    "\n",
    "# data_hub.select_correction(\n",
    "#     correction_type=CorrectionType.ABOVE_GROUND_BIOMASS\n",
    "# )\n",
    "\n",
    "data_hub.correct_neutrons()\n",
    "data_hub.crns_data_frame"
   ]
  },
  {
   "cell_type": "code",
   "execution_count": null,
   "metadata": {},
   "outputs": [],
   "source": [
    "class NewIdeaForBiomass(Correction):\n",
    "    \"\"\"\n",
    "    My new idea to correct for biomass with humidity\n",
    "    \"\"\"\n",
    "\n",
    "    def __init__(self, \n",
    "                site_information,\n",
    "                correction_type = CorrectionType.CUSTOM,\n",
    "                 \n",
    "                correction_factor_column_name: str = \"new_biomass_correction\",\n",
    "                ):\n",
    "        super().__init__(correction_type=correction_type, \n",
    "                         correction_factor_column_name=correction_factor_column_name)\n",
    "        self.site_information = site_information\n",
    "        self.humidity_column_name = \"air_relative_humidity\"\n",
    "\n",
    "    @staticmethod\n",
    "    def new_func(biomass, humidity):\n",
    "        if biomass == 0:\n",
    "            return 1\n",
    "        return 1-((biomass / humidity) / 1000)\n",
    "\n",
    "    def apply(self, data_frame: pd.DataFrame):\n",
    "\n",
    "        data_frame[self.correction_factor_column_name] = data_frame.apply(\n",
    "            lambda row: self.new_func(\n",
    "                row[self.humidity_column_name],\n",
    "                self.site_information.site_biomass, # Here we use a value from site_information\n",
    "            ),\n",
    "            axis=1,\n",
    "        )\n",
    "        return data_frame"
   ]
  },
  {
   "cell_type": "code",
   "execution_count": null,
   "metadata": {},
   "outputs": [],
   "source": [
    "data_hub.correction_factory.register_custom_correction(\n",
    "    correction_type=CorrectionType.CUSTOM,\n",
    "    theory=\"my_new_idea\",\n",
    "    correction_class=NewIdeaForBiomass,\n",
    ")\n",
    "\n",
    "data_hub.select_correction(\n",
    "    correction_type=CorrectionType.CUSTOM,\n",
    "    correction_theory=\"my_new_idea\",\n",
    ")\n",
    "\n",
    "data_hub.prepare_static_values()\n",
    "data_hub.correct_neutrons()\n",
    "data_hub.crns_data_frame"
   ]
  },
  {
   "cell_type": "code",
   "execution_count": null,
   "metadata": {},
   "outputs": [],
   "source": [
    "data_hub.produce_soil_moisture_estimates()\n",
    "data_hub.crns_data_frame"
   ]
  },
  {
   "cell_type": "code",
   "execution_count": null,
   "metadata": {},
   "outputs": [],
   "source": [
    "df = data_hub.crns_data_frame\n",
    "\n",
    "data_hub.save_data(append_yaml_hash_to_folder_name=True)"
   ]
  },
  {
   "cell_type": "code",
   "execution_count": null,
   "metadata": {},
   "outputs": [],
   "source": []
  }
 ],
 "metadata": {
  "kernelspec": {
   "display_name": "neptoon_dev",
   "language": "python",
   "name": "python3"
  },
  "language_info": {
   "codemirror_mode": {
    "name": "ipython",
    "version": 3
   },
   "file_extension": ".py",
   "mimetype": "text/x-python",
   "name": "python",
   "nbconvert_exporter": "python",
   "pygments_lexer": "ipython3",
   "version": "3.10.14"
  }
 },
 "nbformat": 4,
 "nbformat_minor": 2
}
