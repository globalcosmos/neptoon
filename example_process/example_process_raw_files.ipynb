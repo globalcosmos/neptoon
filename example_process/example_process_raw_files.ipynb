{
 "cells": [
  {
   "cell_type": "code",
   "execution_count": 1,
   "metadata": {},
   "outputs": [],
   "source": [
    "from pathlib import Path\n",
    "import pandas as pd\n",
    "from neptoon.quality_control import (\n",
    "    QualityAssessmentFlagBuilder,\n",
    "    QualityCheck,\n",
    "    QAMethod,\n",
    "    QATarget,\n",
    ")\n",
    "from neptoon.hub import CRNSDataHub\n",
    "from neptoon.config import SiteInformation\n",
    "from neptoon.corrections import (\n",
    "    CorrectionType,\n",
    "    CorrectionTheory,\n",
    "    Correction,\n",
    ")\n",
    "from neptoon.data_audit import (\n",
    "    DataAuditLog,\n",
    ")\n",
    "from neptoon.io.read import (\n",
    "    CollectAndParseRawData\n",
    ")"
   ]
  },
  {
   "cell_type": "code",
   "execution_count": 2,
   "metadata": {},
   "outputs": [
    {
     "data": {
      "text/plain": [
       "<neptoon.data_audit.data_audit.DataAuditLog at 0x105bbb8b0>"
      ]
     },
     "execution_count": 2,
     "metadata": {},
     "output_type": "execute_result"
    }
   ],
   "source": [
    "DataAuditLog.create()"
   ]
  },
  {
   "cell_type": "code",
   "execution_count": 3,
   "metadata": {},
   "outputs": [
    {
     "ename": "FileNotFoundError",
     "evalue": "[Errno 2] No such file or directory: '/Users/power/Documents/code/neptoon/example_process/configuration_files/example_data/CRNS-station_data-Hydroinnova-A.zip'",
     "output_type": "error",
     "traceback": [
      "\u001b[0;31m---------------------------------------------------------------------------\u001b[0m",
      "\u001b[0;31mFileNotFoundError\u001b[0m                         Traceback (most recent call last)",
      "Cell \u001b[0;32mIn[3], line 5\u001b[0m\n\u001b[1;32m      1\u001b[0m abspath \u001b[38;5;241m=\u001b[39m \u001b[38;5;124m\"\u001b[39m\u001b[38;5;124m\"\u001b[39m \n\u001b[1;32m      2\u001b[0m data_creator \u001b[38;5;241m=\u001b[39m CollectAndParseRawData(\n\u001b[1;32m      3\u001b[0m     path_to_yaml\u001b[38;5;241m=\u001b[39m abspath \u001b[38;5;241m+\u001b[39m \u001b[38;5;124m\"\u001b[39m\u001b[38;5;124mconfiguration_files/A101_station.yaml\u001b[39m\u001b[38;5;124m\"\u001b[39m\n\u001b[1;32m      4\u001b[0m )\n\u001b[0;32m----> 5\u001b[0m crns_df \u001b[38;5;241m=\u001b[39m \u001b[43mdata_creator\u001b[49m\u001b[38;5;241;43m.\u001b[39;49m\u001b[43mcreate_data_frame\u001b[49m\u001b[43m(\u001b[49m\u001b[43m)\u001b[49m\n",
      "File \u001b[0;32m~/Documents/code/neptoon/neptoon/io/read/data_ingest.py:1724\u001b[0m, in \u001b[0;36mCollectAndParseRawData.create_data_frame\u001b[0;34m(self)\u001b[0m\n\u001b[1;32m   1722\u001b[0m \u001b[38;5;28;01mdef\u001b[39;00m \u001b[38;5;21mcreate_data_frame\u001b[39m(\u001b[38;5;28mself\u001b[39m):\n\u001b[1;32m   1723\u001b[0m     \u001b[38;5;28mself\u001b[39m\u001b[38;5;241m.\u001b[39mfile_collection_config \u001b[38;5;241m=\u001b[39m FileCollectionConfig(\u001b[38;5;28mself\u001b[39m\u001b[38;5;241m.\u001b[39mpath_to_yaml)\n\u001b[0;32m-> 1724\u001b[0m     \u001b[38;5;28;43mself\u001b[39;49m\u001b[38;5;241;43m.\u001b[39;49m\u001b[43mfile_collection_config\u001b[49m\u001b[38;5;241;43m.\u001b[39;49m\u001b[43mbuild_from_yaml\u001b[49m\u001b[43m(\u001b[49m\u001b[43m)\u001b[49m\n\u001b[1;32m   1725\u001b[0m     file_manager \u001b[38;5;241m=\u001b[39m ManageFileCollection(config\u001b[38;5;241m=\u001b[39m\u001b[38;5;28mself\u001b[39m\u001b[38;5;241m.\u001b[39mfile_collection_config)\n\u001b[1;32m   1726\u001b[0m     file_manager\u001b[38;5;241m.\u001b[39mget_list_of_files()\n",
      "File \u001b[0;32m~/Documents/code/neptoon/neptoon/io/read/data_ingest.py:325\u001b[0m, in \u001b[0;36mFileCollectionConfig.build_from_yaml\u001b[0;34m(self, path_to_yaml)\u001b[0m\n\u001b[1;32m    319\u001b[0m internal_config\u001b[38;5;241m.\u001b[39mload_and_validate_configuration(\n\u001b[1;32m    320\u001b[0m     name\u001b[38;5;241m=\u001b[39m\u001b[38;5;124m\"\u001b[39m\u001b[38;5;124minput_data\u001b[39m\u001b[38;5;124m\"\u001b[39m,\n\u001b[1;32m    321\u001b[0m     file_path\u001b[38;5;241m=\u001b[39mpath,\n\u001b[1;32m    322\u001b[0m )\n\u001b[1;32m    323\u001b[0m yaml_information \u001b[38;5;241m=\u001b[39m internal_config\u001b[38;5;241m.\u001b[39mget_configuration(\u001b[38;5;124m\"\u001b[39m\u001b[38;5;124minput_data\u001b[39m\u001b[38;5;124m\"\u001b[39m)\n\u001b[0;32m--> 325\u001b[0m \u001b[38;5;28;43mself\u001b[39;49m\u001b[38;5;241;43m.\u001b[39;49m\u001b[43mdata_location\u001b[49m \u001b[38;5;241m=\u001b[39m (\n\u001b[1;32m    326\u001b[0m     yaml_information\u001b[38;5;241m.\u001b[39mraw_data_parse_options\u001b[38;5;241m.\u001b[39mdata_location\n\u001b[1;32m    327\u001b[0m )\n\u001b[1;32m    328\u001b[0m \u001b[38;5;28mself\u001b[39m\u001b[38;5;241m.\u001b[39mcolumn_names \u001b[38;5;241m=\u001b[39m (\n\u001b[1;32m    329\u001b[0m     yaml_information\u001b[38;5;241m.\u001b[39mraw_data_parse_options\u001b[38;5;241m.\u001b[39mcolumn_names\n\u001b[1;32m    330\u001b[0m )\n\u001b[1;32m    331\u001b[0m \u001b[38;5;28mself\u001b[39m\u001b[38;5;241m.\u001b[39mprefix \u001b[38;5;241m=\u001b[39m yaml_information\u001b[38;5;241m.\u001b[39mraw_data_parse_options\u001b[38;5;241m.\u001b[39mprefix\n",
      "File \u001b[0;32m~/Documents/code/neptoon/neptoon/io/read/data_ingest.py:192\u001b[0m, in \u001b[0;36mFileCollectionConfig.data_location\u001b[0;34m(self, new_location)\u001b[0m\n\u001b[1;32m    187\u001b[0m \u001b[38;5;129m@data_location\u001b[39m\u001b[38;5;241m.\u001b[39msetter\n\u001b[1;32m    188\u001b[0m \u001b[38;5;28;01mdef\u001b[39;00m \u001b[38;5;21mdata_location\u001b[39m(\u001b[38;5;28mself\u001b[39m, new_location):\n\u001b[1;32m    189\u001b[0m     \u001b[38;5;28mself\u001b[39m\u001b[38;5;241m.\u001b[39m_data_location \u001b[38;5;241m=\u001b[39m validate_and_convert_file_path(\n\u001b[1;32m    190\u001b[0m         new_location, base\u001b[38;5;241m=\u001b[39m\u001b[38;5;28mself\u001b[39m\u001b[38;5;241m.\u001b[39m_path_to_yaml\u001b[38;5;241m.\u001b[39mparent\n\u001b[1;32m    191\u001b[0m     )\n\u001b[0;32m--> 192\u001b[0m     \u001b[38;5;28;43mself\u001b[39;49m\u001b[38;5;241;43m.\u001b[39;49m\u001b[43m_determine_source_type\u001b[49m\u001b[43m(\u001b[49m\u001b[43m)\u001b[49m\n",
      "File \u001b[0;32m~/Documents/code/neptoon/neptoon/io/read/data_ingest.py:248\u001b[0m, in \u001b[0;36mFileCollectionConfig._determine_source_type\u001b[0;34m(self)\u001b[0m\n\u001b[1;32m    246\u001b[0m     \u001b[38;5;28mself\u001b[39m\u001b[38;5;241m.\u001b[39m_data_source \u001b[38;5;241m=\u001b[39m \u001b[38;5;124m\"\u001b[39m\u001b[38;5;124mfolder\u001b[39m\u001b[38;5;124m\"\u001b[39m\n\u001b[1;32m    247\u001b[0m     core_logger\u001b[38;5;241m.\u001b[39minfo(\u001b[38;5;124m\"\u001b[39m\u001b[38;5;124mExtracting data from a folder\u001b[39m\u001b[38;5;124m\"\u001b[39m)\n\u001b[0;32m--> 248\u001b[0m \u001b[38;5;28;01melif\u001b[39;00m \u001b[43mtarfile\u001b[49m\u001b[38;5;241;43m.\u001b[39;49m\u001b[43mis_tarfile\u001b[49m\u001b[43m(\u001b[49m\u001b[38;5;28;43mself\u001b[39;49m\u001b[38;5;241;43m.\u001b[39;49m\u001b[43m_data_location\u001b[49m\u001b[43m)\u001b[49m:\n\u001b[1;32m    249\u001b[0m     \u001b[38;5;28mself\u001b[39m\u001b[38;5;241m.\u001b[39m_data_source \u001b[38;5;241m=\u001b[39m \u001b[38;5;124m\"\u001b[39m\u001b[38;5;124mtarfile\u001b[39m\u001b[38;5;124m\"\u001b[39m\n\u001b[1;32m    250\u001b[0m     core_logger\u001b[38;5;241m.\u001b[39minfo(\u001b[38;5;124m\"\u001b[39m\u001b[38;5;124mExtracting data from a tarfile\u001b[39m\u001b[38;5;124m\"\u001b[39m)\n",
      "File \u001b[0;32m~/miniconda3/envs/neptoon_dev/lib/python3.10/tarfile.py:2787\u001b[0m, in \u001b[0;36mis_tarfile\u001b[0;34m(name)\u001b[0m\n\u001b[1;32m   2785\u001b[0m     t \u001b[38;5;241m=\u001b[39m \u001b[38;5;28mopen\u001b[39m(fileobj\u001b[38;5;241m=\u001b[39mname)\n\u001b[1;32m   2786\u001b[0m \u001b[38;5;28;01melse\u001b[39;00m:\n\u001b[0;32m-> 2787\u001b[0m     t \u001b[38;5;241m=\u001b[39m \u001b[38;5;28;43mopen\u001b[39;49m\u001b[43m(\u001b[49m\u001b[43mname\u001b[49m\u001b[43m)\u001b[49m\n\u001b[1;32m   2788\u001b[0m t\u001b[38;5;241m.\u001b[39mclose()\n\u001b[1;32m   2789\u001b[0m \u001b[38;5;28;01mreturn\u001b[39;00m \u001b[38;5;28;01mTrue\u001b[39;00m\n",
      "File \u001b[0;32m~/miniconda3/envs/neptoon_dev/lib/python3.10/tarfile.py:1804\u001b[0m, in \u001b[0;36mTarFile.open\u001b[0;34m(cls, name, mode, fileobj, bufsize, **kwargs)\u001b[0m\n\u001b[1;32m   1802\u001b[0m     saved_pos \u001b[38;5;241m=\u001b[39m fileobj\u001b[38;5;241m.\u001b[39mtell()\n\u001b[1;32m   1803\u001b[0m \u001b[38;5;28;01mtry\u001b[39;00m:\n\u001b[0;32m-> 1804\u001b[0m     \u001b[38;5;28;01mreturn\u001b[39;00m \u001b[43mfunc\u001b[49m\u001b[43m(\u001b[49m\u001b[43mname\u001b[49m\u001b[43m,\u001b[49m\u001b[43m \u001b[49m\u001b[38;5;124;43m\"\u001b[39;49m\u001b[38;5;124;43mr\u001b[39;49m\u001b[38;5;124;43m\"\u001b[39;49m\u001b[43m,\u001b[49m\u001b[43m \u001b[49m\u001b[43mfileobj\u001b[49m\u001b[43m,\u001b[49m\u001b[43m \u001b[49m\u001b[38;5;241;43m*\u001b[39;49m\u001b[38;5;241;43m*\u001b[39;49m\u001b[43mkwargs\u001b[49m\u001b[43m)\u001b[49m\n\u001b[1;32m   1805\u001b[0m \u001b[38;5;28;01mexcept\u001b[39;00m (ReadError, CompressionError) \u001b[38;5;28;01mas\u001b[39;00m e:\n\u001b[1;32m   1806\u001b[0m     error_msgs\u001b[38;5;241m.\u001b[39mappend(\u001b[38;5;124mf\u001b[39m\u001b[38;5;124m'\u001b[39m\u001b[38;5;124m- method \u001b[39m\u001b[38;5;132;01m{\u001b[39;00mcomptype\u001b[38;5;132;01m}\u001b[39;00m\u001b[38;5;124m: \u001b[39m\u001b[38;5;132;01m{\u001b[39;00me\u001b[38;5;132;01m!r}\u001b[39;00m\u001b[38;5;124m'\u001b[39m)\n",
      "File \u001b[0;32m~/miniconda3/envs/neptoon_dev/lib/python3.10/tarfile.py:1870\u001b[0m, in \u001b[0;36mTarFile.gzopen\u001b[0;34m(cls, name, mode, fileobj, compresslevel, **kwargs)\u001b[0m\n\u001b[1;32m   1867\u001b[0m     \u001b[38;5;28;01mraise\u001b[39;00m CompressionError(\u001b[38;5;124m\"\u001b[39m\u001b[38;5;124mgzip module is not available\u001b[39m\u001b[38;5;124m\"\u001b[39m) \u001b[38;5;28;01mfrom\u001b[39;00m \u001b[38;5;28;01mNone\u001b[39;00m\n\u001b[1;32m   1869\u001b[0m \u001b[38;5;28;01mtry\u001b[39;00m:\n\u001b[0;32m-> 1870\u001b[0m     fileobj \u001b[38;5;241m=\u001b[39m \u001b[43mGzipFile\u001b[49m\u001b[43m(\u001b[49m\u001b[43mname\u001b[49m\u001b[43m,\u001b[49m\u001b[43m \u001b[49m\u001b[43mmode\u001b[49m\u001b[43m \u001b[49m\u001b[38;5;241;43m+\u001b[39;49m\u001b[43m \u001b[49m\u001b[38;5;124;43m\"\u001b[39;49m\u001b[38;5;124;43mb\u001b[39;49m\u001b[38;5;124;43m\"\u001b[39;49m\u001b[43m,\u001b[49m\u001b[43m \u001b[49m\u001b[43mcompresslevel\u001b[49m\u001b[43m,\u001b[49m\u001b[43m \u001b[49m\u001b[43mfileobj\u001b[49m\u001b[43m)\u001b[49m\n\u001b[1;32m   1871\u001b[0m \u001b[38;5;28;01mexcept\u001b[39;00m \u001b[38;5;167;01mOSError\u001b[39;00m \u001b[38;5;28;01mas\u001b[39;00m e:\n\u001b[1;32m   1872\u001b[0m     \u001b[38;5;28;01mif\u001b[39;00m fileobj \u001b[38;5;129;01mis\u001b[39;00m \u001b[38;5;129;01mnot\u001b[39;00m \u001b[38;5;28;01mNone\u001b[39;00m \u001b[38;5;129;01mand\u001b[39;00m mode \u001b[38;5;241m==\u001b[39m \u001b[38;5;124m'\u001b[39m\u001b[38;5;124mr\u001b[39m\u001b[38;5;124m'\u001b[39m:\n",
      "File \u001b[0;32m~/miniconda3/envs/neptoon_dev/lib/python3.10/gzip.py:174\u001b[0m, in \u001b[0;36mGzipFile.__init__\u001b[0;34m(self, filename, mode, compresslevel, fileobj, mtime)\u001b[0m\n\u001b[1;32m    172\u001b[0m     mode \u001b[38;5;241m+\u001b[39m\u001b[38;5;241m=\u001b[39m \u001b[38;5;124m'\u001b[39m\u001b[38;5;124mb\u001b[39m\u001b[38;5;124m'\u001b[39m\n\u001b[1;32m    173\u001b[0m \u001b[38;5;28;01mif\u001b[39;00m fileobj \u001b[38;5;129;01mis\u001b[39;00m \u001b[38;5;28;01mNone\u001b[39;00m:\n\u001b[0;32m--> 174\u001b[0m     fileobj \u001b[38;5;241m=\u001b[39m \u001b[38;5;28mself\u001b[39m\u001b[38;5;241m.\u001b[39mmyfileobj \u001b[38;5;241m=\u001b[39m \u001b[43mbuiltins\u001b[49m\u001b[38;5;241;43m.\u001b[39;49m\u001b[43mopen\u001b[49m\u001b[43m(\u001b[49m\u001b[43mfilename\u001b[49m\u001b[43m,\u001b[49m\u001b[43m \u001b[49m\u001b[43mmode\u001b[49m\u001b[43m \u001b[49m\u001b[38;5;129;43;01mor\u001b[39;49;00m\u001b[43m \u001b[49m\u001b[38;5;124;43m'\u001b[39;49m\u001b[38;5;124;43mrb\u001b[39;49m\u001b[38;5;124;43m'\u001b[39;49m\u001b[43m)\u001b[49m\n\u001b[1;32m    175\u001b[0m \u001b[38;5;28;01mif\u001b[39;00m filename \u001b[38;5;129;01mis\u001b[39;00m \u001b[38;5;28;01mNone\u001b[39;00m:\n\u001b[1;32m    176\u001b[0m     filename \u001b[38;5;241m=\u001b[39m \u001b[38;5;28mgetattr\u001b[39m(fileobj, \u001b[38;5;124m'\u001b[39m\u001b[38;5;124mname\u001b[39m\u001b[38;5;124m'\u001b[39m, \u001b[38;5;124m'\u001b[39m\u001b[38;5;124m'\u001b[39m)\n",
      "\u001b[0;31mFileNotFoundError\u001b[0m: [Errno 2] No such file or directory: '/Users/power/Documents/code/neptoon/example_process/configuration_files/example_data/CRNS-station_data-Hydroinnova-A.zip'"
     ]
    }
   ],
   "source": [
    "abspath = \"\" \n",
    "data_creator = CollectAndParseRawData(\n",
    "    path_to_yaml= abspath + \"configuration_files/A101_station.yaml\"\n",
    ")\n",
    "crns_df = data_creator.create_data_frame()"
   ]
  },
  {
   "cell_type": "code",
   "execution_count": null,
   "metadata": {},
   "outputs": [],
   "source": [
    "site_information = SiteInformation(\n",
    "    site_name=\"x_some_site\",\n",
    "    latitude=51.37,\n",
    "    longitude=12.55,\n",
    "    elevation=140,\n",
    "    reference_incoming_neutron_value=150,\n",
    "    dry_soil_bulk_density=1.4,\n",
    "    lattice_water=0.01,\n",
    "    soil_organic_carbon=0,\n",
    "    n0=700,\n",
    "    cutoff_rigidity=2.94,\n",
    "    site_biomass = 1\n",
    ")\n",
    "\n",
    "# site_information.add_custom_value(\"n0\", 1500)\n",
    "site_information.add_custom_value(\"biomass\", 1)\n"
   ]
  },
  {
   "cell_type": "code",
   "execution_count": null,
   "metadata": {},
   "outputs": [],
   "source": [
    "data_hub = CRNSDataHub(\n",
    "    crns_data_frame=crns_df, site_information=site_information\n",
    ")\n",
    "data_hub.validate_dataframe(schema=\"initial_check\")"
   ]
  },
  {
   "cell_type": "markdown",
   "metadata": {},
   "source": [
    "The `attach_nmdb_data()` method has defaults. Running the below code, without selecting values, will work too. \n",
    "\n",
    "\n",
    "```python\n",
    "data_hub.attach_nmdb_data()\n",
    "```\n",
    "\n"
   ]
  },
  {
   "cell_type": "code",
   "execution_count": null,
   "metadata": {},
   "outputs": [],
   "source": [
    "data_hub.attach_nmdb_data(\n",
    "    station = \"JUNG\",\n",
    "    new_column_name = \"incoming_neutron_intensity\",\n",
    "    resolution = \"60\",\n",
    "    nmdb_table = \"revori\"\n",
    "    )\n",
    "data_hub.crns_data_frame"
   ]
  },
  {
   "cell_type": "code",
   "execution_count": null,
   "metadata": {},
   "outputs": [],
   "source": [
    "data_hub.prepare_static_values()\n",
    "data_hub.crns_data_frame"
   ]
  },
  {
   "cell_type": "code",
   "execution_count": null,
   "metadata": {},
   "outputs": [],
   "source": [
    "qa_flags = QualityAssessmentFlagBuilder()\n",
    "qa_flags.add_check(\n",
    "    \n",
    "    QualityCheck(\n",
    "        target=QATarget.RELATIVE_HUMIDITY,\n",
    "        method=QAMethod.RANGE_CHECK,\n",
    "        parameters={\n",
    "            \"min\":0,\n",
    "            \"max\":100\n",
    "                }),\n",
    "\n",
    "    QualityCheck(\n",
    "        target=QATarget.RAW_EPI_NEUTRONS,\n",
    "        method=QAMethod.SPIKE_UNILOF,\n",
    "    )\n",
    ")\n",
    "\n",
    "data_hub.add_quality_flags(custom_flags=qa_flags)\n",
    "data_hub.apply_quality_flags()\n",
    "data_hub.flags_data_frame\n"
   ]
  },
  {
   "cell_type": "code",
   "execution_count": null,
   "metadata": {},
   "outputs": [],
   "source": [
    "data_hub.select_correction(\n",
    "    correction_type=CorrectionType.INCOMING_INTENSITY,\n",
    "    correction_theory=CorrectionTheory.ZREDA_2012,\n",
    ")\n",
    "data_hub.select_correction(\n",
    "    correction_type=CorrectionType.HUMIDITY,\n",
    "    correction_theory=CorrectionTheory.ROSOLEM_2013\n",
    ")\n",
    "\n",
    "data_hub.select_correction(\n",
    "    correction_type=CorrectionType.PRESSURE,\n",
    ")\n",
    "\n",
    "# data_hub.select_correction(\n",
    "#     correction_type=CorrectionType.ABOVE_GROUND_BIOMASS\n",
    "# )\n",
    "\n",
    "data_hub.correct_neutrons()\n",
    "data_hub.crns_data_frame"
   ]
  },
  {
   "cell_type": "code",
   "execution_count": null,
   "metadata": {},
   "outputs": [],
   "source": [
    "class NewIdeaForBiomass(Correction):\n",
    "    \"\"\"\n",
    "    My new idea to correct for biomass with humidity\n",
    "    \"\"\"\n",
    "\n",
    "    def __init__(self, \n",
    "                site_information,\n",
    "                correction_type = CorrectionType.CUSTOM,\n",
    "                 \n",
    "                correction_factor_column_name: str = \"new_biomass_correction\",\n",
    "                ):\n",
    "        super().__init__(correction_type=correction_type, \n",
    "                         correction_factor_column_name=correction_factor_column_name)\n",
    "        self.site_information = site_information\n",
    "        self.humidity_column_name = \"air_relative_humidity\"\n",
    "\n",
    "    @staticmethod\n",
    "    def new_func(biomass, humidity):\n",
    "        if biomass == 0:\n",
    "            return 1\n",
    "        return 1-((biomass / humidity) / 1000)\n",
    "\n",
    "    def apply(self, data_frame: pd.DataFrame):\n",
    "\n",
    "        data_frame[self.correction_factor_column_name] = data_frame.apply(\n",
    "            lambda row: self.new_func(\n",
    "                row[self.humidity_column_name],\n",
    "                self.site_information.site_biomass, # Here we use a value from site_information\n",
    "            ),\n",
    "            axis=1,\n",
    "        )\n",
    "        return data_frame"
   ]
  },
  {
   "cell_type": "code",
   "execution_count": null,
   "metadata": {},
   "outputs": [],
   "source": [
    "data_hub.correction_factory.register_custom_correction(\n",
    "    correction_type=CorrectionType.CUSTOM,\n",
    "    theory=\"my_new_idea\",\n",
    "    correction_class=NewIdeaForBiomass,\n",
    ")\n",
    "\n",
    "data_hub.select_correction(\n",
    "    correction_type=CorrectionType.CUSTOM,\n",
    "    correction_theory=\"my_new_idea\",\n",
    ")\n",
    "\n",
    "data_hub.prepare_static_values()\n",
    "data_hub.correct_neutrons()\n",
    "data_hub.crns_data_frame"
   ]
  },
  {
   "cell_type": "code",
   "execution_count": null,
   "metadata": {},
   "outputs": [],
   "source": [
    "data_hub.produce_soil_moisture_estimates()\n",
    "data_hub.crns_data_frame"
   ]
  },
  {
   "cell_type": "code",
   "execution_count": null,
   "metadata": {},
   "outputs": [],
   "source": [
    "df = data_hub.crns_data_frame\n",
    "\n",
    "data_hub.save_data(append_yaml_hash_to_folder_name=True)"
   ]
  },
  {
   "cell_type": "code",
   "execution_count": null,
   "metadata": {},
   "outputs": [],
   "source": []
  }
 ],
 "metadata": {
  "kernelspec": {
   "display_name": "neptoon_dev",
   "language": "python",
   "name": "python3"
  },
  "language_info": {
   "codemirror_mode": {
    "name": "ipython",
    "version": 3
   },
   "file_extension": ".py",
   "mimetype": "text/x-python",
   "name": "python",
   "nbconvert_exporter": "python",
   "pygments_lexer": "ipython3",
   "version": "3.10.14"
  }
 },
 "nbformat": 4,
 "nbformat_minor": 2
}
